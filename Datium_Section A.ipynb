{
 "cells": [
  {
   "cell_type": "code",
   "execution_count": 3,
   "metadata": {},
   "outputs": [],
   "source": [
    "import pandas as pd"
   ]
  },
  {
   "cell_type": "code",
   "execution_count": null,
   "metadata": {},
   "outputs": [],
   "source": []
  },
  {
   "cell_type": "code",
   "execution_count": null,
   "metadata": {},
   "outputs": [],
   "source": [
    "import bamboolib as bam"
   ]
  },
  {
   "cell_type": "code",
   "execution_count": null,
   "metadata": {},
   "outputs": [],
   "source": []
  },
  {
   "cell_type": "code",
   "execution_count": 20,
   "metadata": {},
   "outputs": [],
   "source": [
    "df = pd.read_csv(r'C:\\Users\\Admin\\Documents\\Datium\\DatiumSample.rpt', sep ='\\t')"
   ]
  },
  {
   "cell_type": "code",
   "execution_count": null,
   "metadata": {},
   "outputs": [],
   "source": []
  },
  {
   "cell_type": "markdown",
   "metadata": {},
   "source": [
    "# Check missing value and drop features with more than 50% missing value"
   ]
  },
  {
   "cell_type": "code",
   "execution_count": 21,
   "metadata": {},
   "outputs": [],
   "source": [
    "missing = df.isna().sum().div(df.shape[0]).mul(100).to_frame().sort_values(by=0, ascending = False)"
   ]
  },
  {
   "cell_type": "code",
   "execution_count": 22,
   "metadata": {},
   "outputs": [
    {
     "name": "stdout",
     "output_type": "stream",
     "text": [
      "There are 36 features with NaNs above 50%.\n"
     ]
    }
   ],
   "source": [
    "cols_missing = missing[missing[0]>50]\n",
    "print(\"There are {} features with NaNs above 50%.\".format(len(cols_missing)))"
   ]
  },
  {
   "cell_type": "code",
   "execution_count": 23,
   "metadata": {},
   "outputs": [],
   "source": [
    "# get the list of features to drop due to significant number of missing value\n",
    "cols_to_drop = list(cols_missing.index)"
   ]
  },
  {
   "cell_type": "code",
   "execution_count": 9,
   "metadata": {},
   "outputs": [],
   "source": [
    "df = df.drop(columns=cols_to_drop)"
   ]
  },
  {
   "cell_type": "markdown",
   "metadata": {},
   "source": [
    "# Calculate the median value of feature for each car model"
   ]
  },
  {
   "cell_type": "code",
   "execution_count": 10,
   "metadata": {},
   "outputs": [],
   "source": [
    "modelfeature = df.groupby(['Model']).agg(FuelUrbanModel=('FuelUrban', 'median'), \n",
    "                                         FuelExtraurbanModel=('FuelExtraurban', 'median'),\n",
    "                                         PayLoadModel=('PayLoad', 'median'), \n",
    "                                         TareMassModel=('TareMass', 'median'),\n",
    "                                         KerbWeightModel=('KerbWeight', 'median'), \n",
    "                                         RonRatingModel=('RonRating', 'median'),\n",
    "                                         GrossVehicleMassModel=('GrossVehicleMass', 'median'), \n",
    "                                         GreenhouseRatingModel=('GreenhouseRating', 'median'),\n",
    "                                         AirpollutionRatingModel=('AirpollutionRating', 'median'), \n",
    "                                         OverallGreenStarRatingModel=('OverallGreenStarRating', 'median'),\n",
    "                                         FuelCombinedModel=('FuelCombined', 'median'), \n",
    "                                         CO2CombinedModel=('CO2Combined', 'median'),\n",
    "                                         AncapRatingModel=('AncapRating', 'median')).reset_index()"
   ]
  },
  {
   "cell_type": "markdown",
   "metadata": {},
   "source": [
    "# Join with original df, replace missing value with median value of the car model"
   ]
  },
  {
   "cell_type": "code",
   "execution_count": null,
   "metadata": {},
   "outputs": [],
   "source": [
    "df = pd.merge(df, modelfeature.drop(columns=[]), how='left', on=['Model'])\n",
    "df['FuelUrbanFinal'] = df['FuelUrban'].combine_first(df['FuelUrbanModel'])\n",
    "df['FuelExtraurbanFinal'] = df['FuelExtraurban'].combine_first(df['FuelExtraurbanModel'])\n",
    "df['PayLoadFinal'] = df['PayLoad'].combine_first(df['PayLoadModel'])\n",
    "df['TareMassFinal'] = df['TareMass'].combine_first(df['TareMassModel'])\n",
    "df['KerbWeightFinal'] = df['KerbWeight'].combine_first(df['KerbWeightModel'])\n",
    "df['GrossVehicleMassFinal'] = df['GrossVehicleMass'].combine_first(df['GrossVehicleMassModel'])\n",
    "df['RonRatingFinal'] = df['RonRating'].combine_first(df['RonRatingModel'])\n",
    "df['GreenhouseRatingFinal'] = df['GreenhouseRating'].combine_first(df['GreenhouseRatingModel'])\n",
    "df['AirpollutionRatingFinal'] = df['AirpollutionRating'].combine_first(df['AirpollutionRatingModel'])\n",
    "df['OverallGreenStarRatingFinal'] = df['OverallGreenStarRating'].combine_first(df['OverallGreenStarRatingModel'])\n",
    "df['FuelCombinedFinal'] = df['FuelCombined'].combine_first(df['FuelCombinedModel'])\n",
    "df['CO2CombinedFinal'] = df['CO2Combined'].combine_first(df['CO2CombinedModel'])\n",
    "df['AncapRatingFinal'] = df['AncapRating'].combine_first(df['AncapRatingModel'])"
   ]
  },
  {
   "cell_type": "code",
   "execution_count": null,
   "metadata": {},
   "outputs": [],
   "source": [
    "col_drop = ['VIN','ModelCode','EngineNum','Sold_Date','Compliance_Date', 'AvgWholesale', 'AvgRetail', 'GoodWholesale', \n",
    "            'GoodRetail', 'TradeMin', 'TradeMax', 'PrivateMax','FuelUrban', 'FuelExtraurban', 'PayLoad', 'TareMass','KerbWeight',\n",
    "           'FuelUrbanModel', 'FuelExtraurbanModel', 'PayLoadModel', 'TareMassModel','KerbWeightModel','GrossVehicleMassModel', \n",
    "           'GrossVehicleMass', 'Make','Model', 'Description', 'RonRating','RonRatingModel','GreenhouseRating','GreenhouseRatingModel',\n",
    "           'AirpollutionRating', 'AirpollutionRatingModel', 'OverallGreenStarRating', 'OverallGreenStarRatingModel', 'FuelCombined', \n",
    "           'FuelCombinedModel','CO2Combined','CO2CombinedModel','AncapRating','AncapRatingModel']\n",
    "df = df.drop(columns=col_drop)"
   ]
  },
  {
   "cell_type": "code",
   "execution_count": null,
   "metadata": {},
   "outputs": [],
   "source": [
    "df['Series'] = df['Series'].fillna('No Series')\n",
    "df['BadgeDescription'] = df['BadgeDescription'].fillna('No BadgeDescription')\n",
    "df['VFactsPrice'] = df['VFactsPrice'].fillna('No VFactsPrice')\n"
   ]
  },
  {
   "cell_type": "code",
   "execution_count": null,
   "metadata": {},
   "outputs": [],
   "source": [
    "df = df.loc[df['Sold_Amount'].isna() == False]"
   ]
  },
  {
   "cell_type": "code",
   "execution_count": null,
   "metadata": {},
   "outputs": [],
   "source": [
    "df"
   ]
  },
  {
   "cell_type": "code",
   "execution_count": null,
   "metadata": {},
   "outputs": [],
   "source": [
    "df.to_csv('Clean_df.csv', index = False)"
   ]
  },
  {
   "cell_type": "code",
   "execution_count": 4,
   "metadata": {},
   "outputs": [],
   "source": [
    "df = pd.read_csv(r'C:\\Users\\Admin\\Documents\\Datium\\Clean_df.csv')"
   ]
  },
  {
   "cell_type": "markdown",
   "metadata": {},
   "source": [
    "# Model training"
   ]
  },
  {
   "cell_type": "code",
   "execution_count": 12,
   "metadata": {},
   "outputs": [],
   "source": [
    "from pycaret.regression import * "
   ]
  },
  {
   "cell_type": "code",
   "execution_count": 24,
   "metadata": {},
   "outputs": [
    {
     "data": {
      "text/html": [
       "<style type=\"text/css\">\n",
       "#T_8b0c6_row3_col1, #T_8b0c6_row7_col1, #T_8b0c6_row17_col1, #T_8b0c6_row27_col1, #T_8b0c6_row34_col1, #T_8b0c6_row35_col1, #T_8b0c6_row38_col1, #T_8b0c6_row40_col1, #T_8b0c6_row49_col1 {\n",
       "  background-color: lightgreen;\n",
       "}\n",
       "</style>\n",
       "<table id=\"T_8b0c6_\">\n",
       "  <thead>\n",
       "    <tr>\n",
       "      <th class=\"blank level0\" >&nbsp;</th>\n",
       "      <th class=\"col_heading level0 col0\" >Description</th>\n",
       "      <th class=\"col_heading level0 col1\" >Value</th>\n",
       "    </tr>\n",
       "  </thead>\n",
       "  <tbody>\n",
       "    <tr>\n",
       "      <th id=\"T_8b0c6_level0_row0\" class=\"row_heading level0 row0\" >0</th>\n",
       "      <td id=\"T_8b0c6_row0_col0\" class=\"data row0 col0\" >session_id</td>\n",
       "      <td id=\"T_8b0c6_row0_col1\" class=\"data row0 col1\" >5526</td>\n",
       "    </tr>\n",
       "    <tr>\n",
       "      <th id=\"T_8b0c6_level0_row1\" class=\"row_heading level0 row1\" >1</th>\n",
       "      <td id=\"T_8b0c6_row1_col0\" class=\"data row1 col0\" >Target</td>\n",
       "      <td id=\"T_8b0c6_row1_col1\" class=\"data row1 col1\" >Sold_Amount</td>\n",
       "    </tr>\n",
       "    <tr>\n",
       "      <th id=\"T_8b0c6_level0_row2\" class=\"row_heading level0 row2\" >2</th>\n",
       "      <td id=\"T_8b0c6_row2_col0\" class=\"data row2 col0\" >Original Data</td>\n",
       "      <td id=\"T_8b0c6_row2_col1\" class=\"data row2 col1\" >(62188, 79)</td>\n",
       "    </tr>\n",
       "    <tr>\n",
       "      <th id=\"T_8b0c6_level0_row3\" class=\"row_heading level0 row3\" >3</th>\n",
       "      <td id=\"T_8b0c6_row3_col0\" class=\"data row3 col0\" >Missing Values</td>\n",
       "      <td id=\"T_8b0c6_row3_col1\" class=\"data row3 col1\" >True</td>\n",
       "    </tr>\n",
       "    <tr>\n",
       "      <th id=\"T_8b0c6_level0_row4\" class=\"row_heading level0 row4\" >4</th>\n",
       "      <td id=\"T_8b0c6_row4_col0\" class=\"data row4 col0\" >Numeric Features</td>\n",
       "      <td id=\"T_8b0c6_row4_col1\" class=\"data row4 col1\" >31</td>\n",
       "    </tr>\n",
       "    <tr>\n",
       "      <th id=\"T_8b0c6_level0_row5\" class=\"row_heading level0 row5\" >5</th>\n",
       "      <td id=\"T_8b0c6_row5_col0\" class=\"data row5 col0\" >Categorical Features</td>\n",
       "      <td id=\"T_8b0c6_row5_col1\" class=\"data row5 col1\" >47</td>\n",
       "    </tr>\n",
       "    <tr>\n",
       "      <th id=\"T_8b0c6_level0_row6\" class=\"row_heading level0 row6\" >6</th>\n",
       "      <td id=\"T_8b0c6_row6_col0\" class=\"data row6 col0\" >Ordinal Features</td>\n",
       "      <td id=\"T_8b0c6_row6_col1\" class=\"data row6 col1\" >False</td>\n",
       "    </tr>\n",
       "    <tr>\n",
       "      <th id=\"T_8b0c6_level0_row7\" class=\"row_heading level0 row7\" >7</th>\n",
       "      <td id=\"T_8b0c6_row7_col0\" class=\"data row7 col0\" >High Cardinality Features</td>\n",
       "      <td id=\"T_8b0c6_row7_col1\" class=\"data row7 col1\" >True</td>\n",
       "    </tr>\n",
       "    <tr>\n",
       "      <th id=\"T_8b0c6_level0_row8\" class=\"row_heading level0 row8\" >8</th>\n",
       "      <td id=\"T_8b0c6_row8_col0\" class=\"data row8 col0\" >High Cardinality Method</td>\n",
       "      <td id=\"T_8b0c6_row8_col1\" class=\"data row8 col1\" >frequency</td>\n",
       "    </tr>\n",
       "    <tr>\n",
       "      <th id=\"T_8b0c6_level0_row9\" class=\"row_heading level0 row9\" >9</th>\n",
       "      <td id=\"T_8b0c6_row9_col0\" class=\"data row9 col0\" >Transformed Train Set</td>\n",
       "      <td id=\"T_8b0c6_row9_col1\" class=\"data row9 col1\" >(44309, 229)</td>\n",
       "    </tr>\n",
       "    <tr>\n",
       "      <th id=\"T_8b0c6_level0_row10\" class=\"row_heading level0 row10\" >10</th>\n",
       "      <td id=\"T_8b0c6_row10_col0\" class=\"data row10 col0\" >Transformed Test Set</td>\n",
       "      <td id=\"T_8b0c6_row10_col1\" class=\"data row10 col1\" >(15547, 229)</td>\n",
       "    </tr>\n",
       "    <tr>\n",
       "      <th id=\"T_8b0c6_level0_row11\" class=\"row_heading level0 row11\" >11</th>\n",
       "      <td id=\"T_8b0c6_row11_col0\" class=\"data row11 col0\" >Shuffle Train-Test</td>\n",
       "      <td id=\"T_8b0c6_row11_col1\" class=\"data row11 col1\" >True</td>\n",
       "    </tr>\n",
       "    <tr>\n",
       "      <th id=\"T_8b0c6_level0_row12\" class=\"row_heading level0 row12\" >12</th>\n",
       "      <td id=\"T_8b0c6_row12_col0\" class=\"data row12 col0\" >Stratify Train-Test</td>\n",
       "      <td id=\"T_8b0c6_row12_col1\" class=\"data row12 col1\" >False</td>\n",
       "    </tr>\n",
       "    <tr>\n",
       "      <th id=\"T_8b0c6_level0_row13\" class=\"row_heading level0 row13\" >13</th>\n",
       "      <td id=\"T_8b0c6_row13_col0\" class=\"data row13 col0\" >Fold Generator</td>\n",
       "      <td id=\"T_8b0c6_row13_col1\" class=\"data row13 col1\" >KFold</td>\n",
       "    </tr>\n",
       "    <tr>\n",
       "      <th id=\"T_8b0c6_level0_row14\" class=\"row_heading level0 row14\" >14</th>\n",
       "      <td id=\"T_8b0c6_row14_col0\" class=\"data row14 col0\" >Fold Number</td>\n",
       "      <td id=\"T_8b0c6_row14_col1\" class=\"data row14 col1\" >10</td>\n",
       "    </tr>\n",
       "    <tr>\n",
       "      <th id=\"T_8b0c6_level0_row15\" class=\"row_heading level0 row15\" >15</th>\n",
       "      <td id=\"T_8b0c6_row15_col0\" class=\"data row15 col0\" >CPU Jobs</td>\n",
       "      <td id=\"T_8b0c6_row15_col1\" class=\"data row15 col1\" >-1</td>\n",
       "    </tr>\n",
       "    <tr>\n",
       "      <th id=\"T_8b0c6_level0_row16\" class=\"row_heading level0 row16\" >16</th>\n",
       "      <td id=\"T_8b0c6_row16_col0\" class=\"data row16 col0\" >Use GPU</td>\n",
       "      <td id=\"T_8b0c6_row16_col1\" class=\"data row16 col1\" >False</td>\n",
       "    </tr>\n",
       "    <tr>\n",
       "      <th id=\"T_8b0c6_level0_row17\" class=\"row_heading level0 row17\" >17</th>\n",
       "      <td id=\"T_8b0c6_row17_col0\" class=\"data row17 col0\" >Log Experiment</td>\n",
       "      <td id=\"T_8b0c6_row17_col1\" class=\"data row17 col1\" >True</td>\n",
       "    </tr>\n",
       "    <tr>\n",
       "      <th id=\"T_8b0c6_level0_row18\" class=\"row_heading level0 row18\" >18</th>\n",
       "      <td id=\"T_8b0c6_row18_col0\" class=\"data row18 col0\" >Experiment Name</td>\n",
       "      <td id=\"T_8b0c6_row18_col1\" class=\"data row18 col1\" >datium</td>\n",
       "    </tr>\n",
       "    <tr>\n",
       "      <th id=\"T_8b0c6_level0_row19\" class=\"row_heading level0 row19\" >19</th>\n",
       "      <td id=\"T_8b0c6_row19_col0\" class=\"data row19 col0\" >USI</td>\n",
       "      <td id=\"T_8b0c6_row19_col1\" class=\"data row19 col1\" >6c8a</td>\n",
       "    </tr>\n",
       "    <tr>\n",
       "      <th id=\"T_8b0c6_level0_row20\" class=\"row_heading level0 row20\" >20</th>\n",
       "      <td id=\"T_8b0c6_row20_col0\" class=\"data row20 col0\" >Imputation Type</td>\n",
       "      <td id=\"T_8b0c6_row20_col1\" class=\"data row20 col1\" >simple</td>\n",
       "    </tr>\n",
       "    <tr>\n",
       "      <th id=\"T_8b0c6_level0_row21\" class=\"row_heading level0 row21\" >21</th>\n",
       "      <td id=\"T_8b0c6_row21_col0\" class=\"data row21 col0\" >Iterative Imputation Iteration</td>\n",
       "      <td id=\"T_8b0c6_row21_col1\" class=\"data row21 col1\" >None</td>\n",
       "    </tr>\n",
       "    <tr>\n",
       "      <th id=\"T_8b0c6_level0_row22\" class=\"row_heading level0 row22\" >22</th>\n",
       "      <td id=\"T_8b0c6_row22_col0\" class=\"data row22 col0\" >Numeric Imputer</td>\n",
       "      <td id=\"T_8b0c6_row22_col1\" class=\"data row22 col1\" >median</td>\n",
       "    </tr>\n",
       "    <tr>\n",
       "      <th id=\"T_8b0c6_level0_row23\" class=\"row_heading level0 row23\" >23</th>\n",
       "      <td id=\"T_8b0c6_row23_col0\" class=\"data row23 col0\" >Iterative Imputation Numeric Model</td>\n",
       "      <td id=\"T_8b0c6_row23_col1\" class=\"data row23 col1\" >None</td>\n",
       "    </tr>\n",
       "    <tr>\n",
       "      <th id=\"T_8b0c6_level0_row24\" class=\"row_heading level0 row24\" >24</th>\n",
       "      <td id=\"T_8b0c6_row24_col0\" class=\"data row24 col0\" >Categorical Imputer</td>\n",
       "      <td id=\"T_8b0c6_row24_col1\" class=\"data row24 col1\" >constant</td>\n",
       "    </tr>\n",
       "    <tr>\n",
       "      <th id=\"T_8b0c6_level0_row25\" class=\"row_heading level0 row25\" >25</th>\n",
       "      <td id=\"T_8b0c6_row25_col0\" class=\"data row25 col0\" >Iterative Imputation Categorical Model</td>\n",
       "      <td id=\"T_8b0c6_row25_col1\" class=\"data row25 col1\" >None</td>\n",
       "    </tr>\n",
       "    <tr>\n",
       "      <th id=\"T_8b0c6_level0_row26\" class=\"row_heading level0 row26\" >26</th>\n",
       "      <td id=\"T_8b0c6_row26_col0\" class=\"data row26 col0\" >Unknown Categoricals Handling</td>\n",
       "      <td id=\"T_8b0c6_row26_col1\" class=\"data row26 col1\" >least_frequent</td>\n",
       "    </tr>\n",
       "    <tr>\n",
       "      <th id=\"T_8b0c6_level0_row27\" class=\"row_heading level0 row27\" >27</th>\n",
       "      <td id=\"T_8b0c6_row27_col0\" class=\"data row27 col0\" >Normalize</td>\n",
       "      <td id=\"T_8b0c6_row27_col1\" class=\"data row27 col1\" >True</td>\n",
       "    </tr>\n",
       "    <tr>\n",
       "      <th id=\"T_8b0c6_level0_row28\" class=\"row_heading level0 row28\" >28</th>\n",
       "      <td id=\"T_8b0c6_row28_col0\" class=\"data row28 col0\" >Normalize Method</td>\n",
       "      <td id=\"T_8b0c6_row28_col1\" class=\"data row28 col1\" >zscore</td>\n",
       "    </tr>\n",
       "    <tr>\n",
       "      <th id=\"T_8b0c6_level0_row29\" class=\"row_heading level0 row29\" >29</th>\n",
       "      <td id=\"T_8b0c6_row29_col0\" class=\"data row29 col0\" >Transformation</td>\n",
       "      <td id=\"T_8b0c6_row29_col1\" class=\"data row29 col1\" >False</td>\n",
       "    </tr>\n",
       "    <tr>\n",
       "      <th id=\"T_8b0c6_level0_row30\" class=\"row_heading level0 row30\" >30</th>\n",
       "      <td id=\"T_8b0c6_row30_col0\" class=\"data row30 col0\" >Transformation Method</td>\n",
       "      <td id=\"T_8b0c6_row30_col1\" class=\"data row30 col1\" >None</td>\n",
       "    </tr>\n",
       "    <tr>\n",
       "      <th id=\"T_8b0c6_level0_row31\" class=\"row_heading level0 row31\" >31</th>\n",
       "      <td id=\"T_8b0c6_row31_col0\" class=\"data row31 col0\" >PCA</td>\n",
       "      <td id=\"T_8b0c6_row31_col1\" class=\"data row31 col1\" >False</td>\n",
       "    </tr>\n",
       "    <tr>\n",
       "      <th id=\"T_8b0c6_level0_row32\" class=\"row_heading level0 row32\" >32</th>\n",
       "      <td id=\"T_8b0c6_row32_col0\" class=\"data row32 col0\" >PCA Method</td>\n",
       "      <td id=\"T_8b0c6_row32_col1\" class=\"data row32 col1\" >None</td>\n",
       "    </tr>\n",
       "    <tr>\n",
       "      <th id=\"T_8b0c6_level0_row33\" class=\"row_heading level0 row33\" >33</th>\n",
       "      <td id=\"T_8b0c6_row33_col0\" class=\"data row33 col0\" >PCA Components</td>\n",
       "      <td id=\"T_8b0c6_row33_col1\" class=\"data row33 col1\" >None</td>\n",
       "    </tr>\n",
       "    <tr>\n",
       "      <th id=\"T_8b0c6_level0_row34\" class=\"row_heading level0 row34\" >34</th>\n",
       "      <td id=\"T_8b0c6_row34_col0\" class=\"data row34 col0\" >Ignore Low Variance</td>\n",
       "      <td id=\"T_8b0c6_row34_col1\" class=\"data row34 col1\" >True</td>\n",
       "    </tr>\n",
       "    <tr>\n",
       "      <th id=\"T_8b0c6_level0_row35\" class=\"row_heading level0 row35\" >35</th>\n",
       "      <td id=\"T_8b0c6_row35_col0\" class=\"data row35 col0\" >Combine Rare Levels</td>\n",
       "      <td id=\"T_8b0c6_row35_col1\" class=\"data row35 col1\" >True</td>\n",
       "    </tr>\n",
       "    <tr>\n",
       "      <th id=\"T_8b0c6_level0_row36\" class=\"row_heading level0 row36\" >36</th>\n",
       "      <td id=\"T_8b0c6_row36_col0\" class=\"data row36 col0\" >Rare Level Threshold</td>\n",
       "      <td id=\"T_8b0c6_row36_col1\" class=\"data row36 col1\" >0.100000</td>\n",
       "    </tr>\n",
       "    <tr>\n",
       "      <th id=\"T_8b0c6_level0_row37\" class=\"row_heading level0 row37\" >37</th>\n",
       "      <td id=\"T_8b0c6_row37_col0\" class=\"data row37 col0\" >Numeric Binning</td>\n",
       "      <td id=\"T_8b0c6_row37_col1\" class=\"data row37 col1\" >False</td>\n",
       "    </tr>\n",
       "    <tr>\n",
       "      <th id=\"T_8b0c6_level0_row38\" class=\"row_heading level0 row38\" >38</th>\n",
       "      <td id=\"T_8b0c6_row38_col0\" class=\"data row38 col0\" >Remove Outliers</td>\n",
       "      <td id=\"T_8b0c6_row38_col1\" class=\"data row38 col1\" >True</td>\n",
       "    </tr>\n",
       "    <tr>\n",
       "      <th id=\"T_8b0c6_level0_row39\" class=\"row_heading level0 row39\" >39</th>\n",
       "      <td id=\"T_8b0c6_row39_col0\" class=\"data row39 col0\" >Outliers Threshold</td>\n",
       "      <td id=\"T_8b0c6_row39_col1\" class=\"data row39 col1\" >0.050000</td>\n",
       "    </tr>\n",
       "    <tr>\n",
       "      <th id=\"T_8b0c6_level0_row40\" class=\"row_heading level0 row40\" >40</th>\n",
       "      <td id=\"T_8b0c6_row40_col0\" class=\"data row40 col0\" >Remove Multicollinearity</td>\n",
       "      <td id=\"T_8b0c6_row40_col1\" class=\"data row40 col1\" >True</td>\n",
       "    </tr>\n",
       "    <tr>\n",
       "      <th id=\"T_8b0c6_level0_row41\" class=\"row_heading level0 row41\" >41</th>\n",
       "      <td id=\"T_8b0c6_row41_col0\" class=\"data row41 col0\" >Multicollinearity Threshold</td>\n",
       "      <td id=\"T_8b0c6_row41_col1\" class=\"data row41 col1\" >0.900000</td>\n",
       "    </tr>\n",
       "    <tr>\n",
       "      <th id=\"T_8b0c6_level0_row42\" class=\"row_heading level0 row42\" >42</th>\n",
       "      <td id=\"T_8b0c6_row42_col0\" class=\"data row42 col0\" >Clustering</td>\n",
       "      <td id=\"T_8b0c6_row42_col1\" class=\"data row42 col1\" >False</td>\n",
       "    </tr>\n",
       "    <tr>\n",
       "      <th id=\"T_8b0c6_level0_row43\" class=\"row_heading level0 row43\" >43</th>\n",
       "      <td id=\"T_8b0c6_row43_col0\" class=\"data row43 col0\" >Clustering Iteration</td>\n",
       "      <td id=\"T_8b0c6_row43_col1\" class=\"data row43 col1\" >None</td>\n",
       "    </tr>\n",
       "    <tr>\n",
       "      <th id=\"T_8b0c6_level0_row44\" class=\"row_heading level0 row44\" >44</th>\n",
       "      <td id=\"T_8b0c6_row44_col0\" class=\"data row44 col0\" >Polynomial Features</td>\n",
       "      <td id=\"T_8b0c6_row44_col1\" class=\"data row44 col1\" >False</td>\n",
       "    </tr>\n",
       "    <tr>\n",
       "      <th id=\"T_8b0c6_level0_row45\" class=\"row_heading level0 row45\" >45</th>\n",
       "      <td id=\"T_8b0c6_row45_col0\" class=\"data row45 col0\" >Polynomial Degree</td>\n",
       "      <td id=\"T_8b0c6_row45_col1\" class=\"data row45 col1\" >None</td>\n",
       "    </tr>\n",
       "    <tr>\n",
       "      <th id=\"T_8b0c6_level0_row46\" class=\"row_heading level0 row46\" >46</th>\n",
       "      <td id=\"T_8b0c6_row46_col0\" class=\"data row46 col0\" >Trignometry Features</td>\n",
       "      <td id=\"T_8b0c6_row46_col1\" class=\"data row46 col1\" >False</td>\n",
       "    </tr>\n",
       "    <tr>\n",
       "      <th id=\"T_8b0c6_level0_row47\" class=\"row_heading level0 row47\" >47</th>\n",
       "      <td id=\"T_8b0c6_row47_col0\" class=\"data row47 col0\" >Polynomial Threshold</td>\n",
       "      <td id=\"T_8b0c6_row47_col1\" class=\"data row47 col1\" >None</td>\n",
       "    </tr>\n",
       "    <tr>\n",
       "      <th id=\"T_8b0c6_level0_row48\" class=\"row_heading level0 row48\" >48</th>\n",
       "      <td id=\"T_8b0c6_row48_col0\" class=\"data row48 col0\" >Group Features</td>\n",
       "      <td id=\"T_8b0c6_row48_col1\" class=\"data row48 col1\" >False</td>\n",
       "    </tr>\n",
       "    <tr>\n",
       "      <th id=\"T_8b0c6_level0_row49\" class=\"row_heading level0 row49\" >49</th>\n",
       "      <td id=\"T_8b0c6_row49_col0\" class=\"data row49 col0\" >Feature Selection</td>\n",
       "      <td id=\"T_8b0c6_row49_col1\" class=\"data row49 col1\" >True</td>\n",
       "    </tr>\n",
       "    <tr>\n",
       "      <th id=\"T_8b0c6_level0_row50\" class=\"row_heading level0 row50\" >50</th>\n",
       "      <td id=\"T_8b0c6_row50_col0\" class=\"data row50 col0\" >Feature Selection Method</td>\n",
       "      <td id=\"T_8b0c6_row50_col1\" class=\"data row50 col1\" >classic</td>\n",
       "    </tr>\n",
       "    <tr>\n",
       "      <th id=\"T_8b0c6_level0_row51\" class=\"row_heading level0 row51\" >51</th>\n",
       "      <td id=\"T_8b0c6_row51_col0\" class=\"data row51 col0\" >Features Selection Threshold</td>\n",
       "      <td id=\"T_8b0c6_row51_col1\" class=\"data row51 col1\" >0.700000</td>\n",
       "    </tr>\n",
       "    <tr>\n",
       "      <th id=\"T_8b0c6_level0_row52\" class=\"row_heading level0 row52\" >52</th>\n",
       "      <td id=\"T_8b0c6_row52_col0\" class=\"data row52 col0\" >Feature Interaction</td>\n",
       "      <td id=\"T_8b0c6_row52_col1\" class=\"data row52 col1\" >False</td>\n",
       "    </tr>\n",
       "    <tr>\n",
       "      <th id=\"T_8b0c6_level0_row53\" class=\"row_heading level0 row53\" >53</th>\n",
       "      <td id=\"T_8b0c6_row53_col0\" class=\"data row53 col0\" >Feature Ratio</td>\n",
       "      <td id=\"T_8b0c6_row53_col1\" class=\"data row53 col1\" >False</td>\n",
       "    </tr>\n",
       "    <tr>\n",
       "      <th id=\"T_8b0c6_level0_row54\" class=\"row_heading level0 row54\" >54</th>\n",
       "      <td id=\"T_8b0c6_row54_col0\" class=\"data row54 col0\" >Interaction Threshold</td>\n",
       "      <td id=\"T_8b0c6_row54_col1\" class=\"data row54 col1\" >None</td>\n",
       "    </tr>\n",
       "    <tr>\n",
       "      <th id=\"T_8b0c6_level0_row55\" class=\"row_heading level0 row55\" >55</th>\n",
       "      <td id=\"T_8b0c6_row55_col0\" class=\"data row55 col0\" >Transform Target</td>\n",
       "      <td id=\"T_8b0c6_row55_col1\" class=\"data row55 col1\" >False</td>\n",
       "    </tr>\n",
       "    <tr>\n",
       "      <th id=\"T_8b0c6_level0_row56\" class=\"row_heading level0 row56\" >56</th>\n",
       "      <td id=\"T_8b0c6_row56_col0\" class=\"data row56 col0\" >Transform Target Method</td>\n",
       "      <td id=\"T_8b0c6_row56_col1\" class=\"data row56 col1\" >box-cox</td>\n",
       "    </tr>\n",
       "  </tbody>\n",
       "</table>\n"
      ],
      "text/plain": [
       "<pandas.io.formats.style.Styler at 0x1cde3bd7130>"
      ]
     },
     "metadata": {},
     "output_type": "display_data"
    }
   ],
   "source": [
    "reg1 = setup(data = df, target = 'Sold_Amount', categorical_imputation = 'constant', \n",
    "            numeric_imputation = 'median', normalize = True, combine_rare_levels = True, \n",
    "            remove_multicollinearity = True, # pca = True, pca_components = 0.95,feature_selection_threshold = 0.7, \n",
    "            log_experiment = True, experiment_name = 'datium',  train_size = 0.75,\n",
    "            feature_selection = True, ignore_low_variance = True, remove_outliers = True,\n",
    "            high_cardinality_features = ['MakeCode','FamilyCode','Series','BadgeDescription','EngineDescription',\n",
    "                                         'FrontTyreSize', 'RearTyreSize', 'FrontRimDesc','RearRimDesc', 'Colour']) "
   ]
  },
  {
   "cell_type": "code",
   "execution_count": null,
   "metadata": {},
   "outputs": [],
   "source": [
    "best = compare_models()"
   ]
  },
  {
   "cell_type": "code",
   "execution_count": null,
   "metadata": {},
   "outputs": [],
   "source": [
    "evaluate_model(cat)"
   ]
  },
  {
   "cell_type": "code",
   "execution_count": 14,
   "metadata": {},
   "outputs": [
    {
     "data": {
      "text/html": [
       "<style type=\"text/css\">\n",
       "#T_67811_row10_col0, #T_67811_row10_col1, #T_67811_row10_col2, #T_67811_row10_col3, #T_67811_row10_col4, #T_67811_row10_col5 {\n",
       "  background: yellow;\n",
       "}\n",
       "</style>\n",
       "<table id=\"T_67811_\">\n",
       "  <thead>\n",
       "    <tr>\n",
       "      <th class=\"blank level0\" >&nbsp;</th>\n",
       "      <th class=\"col_heading level0 col0\" >MAE</th>\n",
       "      <th class=\"col_heading level0 col1\" >MSE</th>\n",
       "      <th class=\"col_heading level0 col2\" >RMSE</th>\n",
       "      <th class=\"col_heading level0 col3\" >R2</th>\n",
       "      <th class=\"col_heading level0 col4\" >RMSLE</th>\n",
       "      <th class=\"col_heading level0 col5\" >MAPE</th>\n",
       "    </tr>\n",
       "  </thead>\n",
       "  <tbody>\n",
       "    <tr>\n",
       "      <th id=\"T_67811_level0_row0\" class=\"row_heading level0 row0\" >0</th>\n",
       "      <td id=\"T_67811_row0_col0\" class=\"data row0 col0\" >1540.9150</td>\n",
       "      <td id=\"T_67811_row0_col1\" class=\"data row0 col1\" >5430938.4877</td>\n",
       "      <td id=\"T_67811_row0_col2\" class=\"data row0 col2\" >2330.4374</td>\n",
       "      <td id=\"T_67811_row0_col3\" class=\"data row0 col3\" >0.9385</td>\n",
       "      <td id=\"T_67811_row0_col4\" class=\"data row0 col4\" >0.9325</td>\n",
       "      <td id=\"T_67811_row0_col5\" class=\"data row0 col5\" >0.1246</td>\n",
       "    </tr>\n",
       "    <tr>\n",
       "      <th id=\"T_67811_level0_row1\" class=\"row_heading level0 row1\" >1</th>\n",
       "      <td id=\"T_67811_row1_col0\" class=\"data row1 col0\" >1541.1770</td>\n",
       "      <td id=\"T_67811_row1_col1\" class=\"data row1 col1\" >5737085.8263</td>\n",
       "      <td id=\"T_67811_row1_col2\" class=\"data row1 col2\" >2395.2215</td>\n",
       "      <td id=\"T_67811_row1_col3\" class=\"data row1 col3\" >0.9278</td>\n",
       "      <td id=\"T_67811_row1_col4\" class=\"data row1 col4\" >0.8969</td>\n",
       "      <td id=\"T_67811_row1_col5\" class=\"data row1 col5\" >0.1234</td>\n",
       "    </tr>\n",
       "    <tr>\n",
       "      <th id=\"T_67811_level0_row2\" class=\"row_heading level0 row2\" >2</th>\n",
       "      <td id=\"T_67811_row2_col0\" class=\"data row2 col0\" >1552.6257</td>\n",
       "      <td id=\"T_67811_row2_col1\" class=\"data row2 col1\" >5431857.1387</td>\n",
       "      <td id=\"T_67811_row2_col2\" class=\"data row2 col2\" >2330.6345</td>\n",
       "      <td id=\"T_67811_row2_col3\" class=\"data row2 col3\" >0.9363</td>\n",
       "      <td id=\"T_67811_row2_col4\" class=\"data row2 col4\" >0.9532</td>\n",
       "      <td id=\"T_67811_row2_col5\" class=\"data row2 col5\" >0.1365</td>\n",
       "    </tr>\n",
       "    <tr>\n",
       "      <th id=\"T_67811_level0_row3\" class=\"row_heading level0 row3\" >3</th>\n",
       "      <td id=\"T_67811_row3_col0\" class=\"data row3 col0\" >1521.7017</td>\n",
       "      <td id=\"T_67811_row3_col1\" class=\"data row3 col1\" >5413922.4554</td>\n",
       "      <td id=\"T_67811_row3_col2\" class=\"data row3 col2\" >2326.7837</td>\n",
       "      <td id=\"T_67811_row3_col3\" class=\"data row3 col3\" >0.9385</td>\n",
       "      <td id=\"T_67811_row3_col4\" class=\"data row3 col4\" >0.9527</td>\n",
       "      <td id=\"T_67811_row3_col5\" class=\"data row3 col5\" >0.1310</td>\n",
       "    </tr>\n",
       "    <tr>\n",
       "      <th id=\"T_67811_level0_row4\" class=\"row_heading level0 row4\" >4</th>\n",
       "      <td id=\"T_67811_row4_col0\" class=\"data row4 col0\" >1543.8458</td>\n",
       "      <td id=\"T_67811_row4_col1\" class=\"data row4 col1\" >5499440.4743</td>\n",
       "      <td id=\"T_67811_row4_col2\" class=\"data row4 col2\" >2345.0886</td>\n",
       "      <td id=\"T_67811_row4_col3\" class=\"data row4 col3\" >0.9371</td>\n",
       "      <td id=\"T_67811_row4_col4\" class=\"data row4 col4\" >0.9123</td>\n",
       "      <td id=\"T_67811_row4_col5\" class=\"data row4 col5\" >0.1274</td>\n",
       "    </tr>\n",
       "    <tr>\n",
       "      <th id=\"T_67811_level0_row5\" class=\"row_heading level0 row5\" >5</th>\n",
       "      <td id=\"T_67811_row5_col0\" class=\"data row5 col0\" >1536.0868</td>\n",
       "      <td id=\"T_67811_row5_col1\" class=\"data row5 col1\" >5179425.1118</td>\n",
       "      <td id=\"T_67811_row5_col2\" class=\"data row5 col2\" >2275.8350</td>\n",
       "      <td id=\"T_67811_row5_col3\" class=\"data row5 col3\" >0.9382</td>\n",
       "      <td id=\"T_67811_row5_col4\" class=\"data row5 col4\" >0.8738</td>\n",
       "      <td id=\"T_67811_row5_col5\" class=\"data row5 col5\" >0.1409</td>\n",
       "    </tr>\n",
       "    <tr>\n",
       "      <th id=\"T_67811_level0_row6\" class=\"row_heading level0 row6\" >6</th>\n",
       "      <td id=\"T_67811_row6_col0\" class=\"data row6 col0\" >1523.9578</td>\n",
       "      <td id=\"T_67811_row6_col1\" class=\"data row6 col1\" >5648766.0152</td>\n",
       "      <td id=\"T_67811_row6_col2\" class=\"data row6 col2\" >2376.7133</td>\n",
       "      <td id=\"T_67811_row6_col3\" class=\"data row6 col3\" >0.9337</td>\n",
       "      <td id=\"T_67811_row6_col4\" class=\"data row6 col4\" >0.9275</td>\n",
       "      <td id=\"T_67811_row6_col5\" class=\"data row6 col5\" >0.1199</td>\n",
       "    </tr>\n",
       "    <tr>\n",
       "      <th id=\"T_67811_level0_row7\" class=\"row_heading level0 row7\" >7</th>\n",
       "      <td id=\"T_67811_row7_col0\" class=\"data row7 col0\" >1585.5985</td>\n",
       "      <td id=\"T_67811_row7_col1\" class=\"data row7 col1\" >6012544.1848</td>\n",
       "      <td id=\"T_67811_row7_col2\" class=\"data row7 col2\" >2452.0490</td>\n",
       "      <td id=\"T_67811_row7_col3\" class=\"data row7 col3\" >0.9327</td>\n",
       "      <td id=\"T_67811_row7_col4\" class=\"data row7 col4\" >0.9413</td>\n",
       "      <td id=\"T_67811_row7_col5\" class=\"data row7 col5\" >0.1213</td>\n",
       "    </tr>\n",
       "    <tr>\n",
       "      <th id=\"T_67811_level0_row8\" class=\"row_heading level0 row8\" >8</th>\n",
       "      <td id=\"T_67811_row8_col0\" class=\"data row8 col0\" >1529.7890</td>\n",
       "      <td id=\"T_67811_row8_col1\" class=\"data row8 col1\" >5802153.2476</td>\n",
       "      <td id=\"T_67811_row8_col2\" class=\"data row8 col2\" >2408.7659</td>\n",
       "      <td id=\"T_67811_row8_col3\" class=\"data row8 col3\" >0.9394</td>\n",
       "      <td id=\"T_67811_row8_col4\" class=\"data row8 col4\" >0.9119</td>\n",
       "      <td id=\"T_67811_row8_col5\" class=\"data row8 col5\" >0.1228</td>\n",
       "    </tr>\n",
       "    <tr>\n",
       "      <th id=\"T_67811_level0_row9\" class=\"row_heading level0 row9\" >9</th>\n",
       "      <td id=\"T_67811_row9_col0\" class=\"data row9 col0\" >1524.2602</td>\n",
       "      <td id=\"T_67811_row9_col1\" class=\"data row9 col1\" >5785914.0881</td>\n",
       "      <td id=\"T_67811_row9_col2\" class=\"data row9 col2\" >2405.3927</td>\n",
       "      <td id=\"T_67811_row9_col3\" class=\"data row9 col3\" >0.9375</td>\n",
       "      <td id=\"T_67811_row9_col4\" class=\"data row9 col4\" >0.9923</td>\n",
       "      <td id=\"T_67811_row9_col5\" class=\"data row9 col5\" >0.1182</td>\n",
       "    </tr>\n",
       "    <tr>\n",
       "      <th id=\"T_67811_level0_row10\" class=\"row_heading level0 row10\" >Mean</th>\n",
       "      <td id=\"T_67811_row10_col0\" class=\"data row10 col0\" >1539.9957</td>\n",
       "      <td id=\"T_67811_row10_col1\" class=\"data row10 col1\" >5594204.7030</td>\n",
       "      <td id=\"T_67811_row10_col2\" class=\"data row10 col2\" >2364.6922</td>\n",
       "      <td id=\"T_67811_row10_col3\" class=\"data row10 col3\" >0.9360</td>\n",
       "      <td id=\"T_67811_row10_col4\" class=\"data row10 col4\" >0.9294</td>\n",
       "      <td id=\"T_67811_row10_col5\" class=\"data row10 col5\" >0.1266</td>\n",
       "    </tr>\n",
       "    <tr>\n",
       "      <th id=\"T_67811_level0_row11\" class=\"row_heading level0 row11\" >SD</th>\n",
       "      <td id=\"T_67811_row11_col0\" class=\"data row11 col0\" >17.9308</td>\n",
       "      <td id=\"T_67811_row11_col1\" class=\"data row11 col1\" >233437.7017</td>\n",
       "      <td id=\"T_67811_row11_col2\" class=\"data row11 col2\" >49.3529</td>\n",
       "      <td id=\"T_67811_row11_col3\" class=\"data row11 col3\" >0.0034</td>\n",
       "      <td id=\"T_67811_row11_col4\" class=\"data row11 col4\" >0.0316</td>\n",
       "      <td id=\"T_67811_row11_col5\" class=\"data row11 col5\" >0.0070</td>\n",
       "    </tr>\n",
       "  </tbody>\n",
       "</table>\n"
      ],
      "text/plain": [
       "<pandas.io.formats.style.Styler at 0x22deccdd5b0>"
      ]
     },
     "metadata": {},
     "output_type": "display_data"
    }
   ],
   "source": [
    "cat = create_model('catboost')"
   ]
  },
  {
   "cell_type": "code",
   "execution_count": null,
   "metadata": {},
   "outputs": [],
   "source": [
    "pred_holdout = predict_model(cat)"
   ]
  },
  {
   "cell_type": "code",
   "execution_count": null,
   "metadata": {},
   "outputs": [],
   "source": [
    "pred_holdout.tail(25)"
   ]
  },
  {
   "cell_type": "code",
   "execution_count": null,
   "metadata": {},
   "outputs": [],
   "source": [
    "save_model(cat, r'C:\\Users\\Admin\\Documents\\Datium\\Experiment\\Run 5\\Cat_Boost')"
   ]
  },
  {
   "cell_type": "code",
   "execution_count": null,
   "metadata": {},
   "outputs": [],
   "source": [
    "file_loc = (r'C:\\Users\\Admin\\Documents\\Datium\\Experiment\\Run 5\\Run5vars.pkl')\n",
    "save_config(file_loc)"
   ]
  },
  {
   "cell_type": "code",
   "execution_count": null,
   "metadata": {},
   "outputs": [],
   "source": []
  },
  {
   "cell_type": "code",
   "execution_count": null,
   "metadata": {},
   "outputs": [],
   "source": []
  },
  {
   "cell_type": "code",
   "execution_count": 13,
   "metadata": {},
   "outputs": [],
   "source": [
    "load_config(r'C:\\Users\\Admin\\Documents\\Datium\\Experiment\\Run 5\\Run5vars.pkl')"
   ]
  },
  {
   "cell_type": "code",
   "execution_count": 17,
   "metadata": {},
   "outputs": [
    {
     "name": "stdout",
     "output_type": "stream",
     "text": [
      "Transformation Pipeline and Model Successfully Loaded\n"
     ]
    }
   ],
   "source": [
    "cat_saved = load_model(r'C:\\Users\\Admin\\Documents\\Datium\\Experiment\\Run 5\\Cat_Boost')"
   ]
  },
  {
   "cell_type": "code",
   "execution_count": 18,
   "metadata": {},
   "outputs": [
    {
     "data": {
      "text/plain": [
       "Pipeline(memory=None,\n",
       "         steps=[('dtypes',\n",
       "                 DataTypes_Auto_infer(categorical_features=[],\n",
       "                                      display_types=True, features_todrop=[],\n",
       "                                      id_columns=[], ml_usecase='regression',\n",
       "                                      numerical_features=[],\n",
       "                                      target='Sold_Amount', time_features=[])),\n",
       "                ('imputer',\n",
       "                 Simple_Imputer(categorical_strategy='not_available',\n",
       "                                fill_value_categorical=None,\n",
       "                                fill_value_numerical=None,\n",
       "                                numeric_stra...\n",
       "                                                    target='Sold_Amount',\n",
       "                                                    top_features_to_pick=0.30000000000000004)),\n",
       "                ('fix_multi',\n",
       "                 Fix_multicollinearity(correlation_with_target_preference=None,\n",
       "                                       correlation_with_target_threshold=0.0,\n",
       "                                       target_variable='Sold_Amount',\n",
       "                                       threshold=0.9)),\n",
       "                ('dfs', 'passthrough'), ('pca', 'passthrough'),\n",
       "                ['trained_model',\n",
       "                 <catboost.core.CatBoostRegressor object at 0x000001CDE5F22280>]],\n",
       "         verbose=False)"
      ]
     },
     "execution_count": 18,
     "metadata": {},
     "output_type": "execute_result"
    }
   ],
   "source": [
    "cat_saved"
   ]
  },
  {
   "cell_type": "markdown",
   "metadata": {},
   "source": [
    "# Demo"
   ]
  },
  {
   "cell_type": "code",
   "execution_count": 27,
   "metadata": {},
   "outputs": [],
   "source": [
    "demo = pd.read_csv(r'C:\\Users\\Admin\\Documents\\Datium\\Clean_df.csv')\n",
    "median_value = pd.read_csv(r'C:\\Users\\Admin\\Documents\\modelfeature_median.csv')\n",
    "df = pd.read_csv(r'C:\\Users\\Admin\\Documents\\Datium\\DatiumSample.rpt', sep ='\\t')"
   ]
  },
  {
   "cell_type": "code",
   "execution_count": 26,
   "metadata": {},
   "outputs": [],
   "source": [
    "drop_col = ['AltEngTorqueFrom', 'QuickChargeVoltage', 'QuickChargeMins', 'NormalChargeVoltage', \n",
    "            'NormalChargeMins', 'AltEngAmpHours', 'TopSpeedElectricEng', 'KMRangeElectricEng',\n",
    "            'ElectricEngineLocation', 'AltEngPowerFrom', 'AltEngTorqueTo', 'FreeScheduledService',\n",
    "            'AltEngPowerTo', 'PowerRPMFrom', 'Roofline', 'AltEngTorque', 'AltEngDrive', 'AltEngPower',\n",
    "            'AltEngChargingMethod', 'AltEngCurrentType', 'AltEngBatteryType', 'AltEngEngineType',\n",
    "            'AltEngVolts', 'WheelBaseConfig', 'BadgeSecondaryDescription', 'ExtraIdentification',\n",
    "            'MaxEthanolBlend', 'TorqueRPMFrom', 'BodyConfigDescription', 'EmissionStandard',\n",
    "            'Acceleration', 'CO2ExtraUrban', 'CO2Urban', 'SeriesModelYear', 'WarrantyCustAssist',\n",
    "            'GrossCombinationMAss']"
   ]
  },
  {
   "cell_type": "code",
   "execution_count": 28,
   "metadata": {},
   "outputs": [],
   "source": [
    "df = df.drop(columns=drop_col)"
   ]
  },
  {
   "cell_type": "code",
   "execution_count": 29,
   "metadata": {},
   "outputs": [],
   "source": [
    "df = pd.merge(df, median_value.drop(columns=[]), how='left', on=['Model'])\n",
    "df['FuelUrbanFinal'] = df['FuelUrban'].combine_first(df['FuelUrbanModel'])\n",
    "df['FuelExtraurbanFinal'] = df['FuelExtraurban'].combine_first(df['FuelExtraurbanModel'])\n",
    "df['PayLoadFinal'] = df['PayLoad'].combine_first(df['PayLoadModel'])\n",
    "df['TareMassFinal'] = df['TareMass'].combine_first(df['TareMassModel'])\n",
    "df['KerbWeightFinal'] = df['KerbWeight'].combine_first(df['KerbWeightModel'])\n",
    "df['GrossVehicleMassFinal'] = df['GrossVehicleMass'].combine_first(df['GrossVehicleMassModel'])\n",
    "df['RonRatingFinal'] = df['RonRating'].combine_first(df['RonRatingModel'])\n",
    "df['GreenhouseRatingFinal'] = df['GreenhouseRating'].combine_first(df['GreenhouseRatingModel'])\n",
    "df['AirpollutionRatingFinal'] = df['AirpollutionRating'].combine_first(df['AirpollutionRatingModel'])\n",
    "df['OverallGreenStarRatingFinal'] = df['OverallGreenStarRating'].combine_first(df['OverallGreenStarRatingModel'])\n",
    "df['FuelCombinedFinal'] = df['FuelCombined'].combine_first(df['FuelCombinedModel'])\n",
    "df['CO2CombinedFinal'] = df['CO2Combined'].combine_first(df['CO2CombinedModel'])\n",
    "df['AncapRatingFinal'] = df['AncapRating'].combine_first(df['AncapRatingModel'])"
   ]
  },
  {
   "cell_type": "code",
   "execution_count": 30,
   "metadata": {},
   "outputs": [],
   "source": [
    "col_drop = ['VIN','ModelCode','EngineNum','Sold_Date','Compliance_Date', 'AvgWholesale', 'AvgRetail', 'GoodWholesale', \n",
    "            'GoodRetail', 'TradeMin', 'TradeMax', 'PrivateMax','FuelUrban', 'FuelExtraurban', 'PayLoad', 'TareMass','KerbWeight',\n",
    "           'FuelUrbanModel', 'FuelExtraurbanModel', 'PayLoadModel', 'TareMassModel','KerbWeightModel','GrossVehicleMassModel', \n",
    "           'GrossVehicleMass', 'Make','Model', 'Description', 'RonRating','RonRatingModel','GreenhouseRating','GreenhouseRatingModel',\n",
    "           'AirpollutionRating', 'AirpollutionRatingModel', 'OverallGreenStarRating', 'OverallGreenStarRatingModel', 'FuelCombined', \n",
    "           'FuelCombinedModel','CO2Combined','CO2CombinedModel','AncapRating','AncapRatingModel']\n",
    "df = df.drop(columns=col_drop)"
   ]
  },
  {
   "cell_type": "code",
   "execution_count": 31,
   "metadata": {},
   "outputs": [],
   "source": [
    "df['Series'] = df['Series'].fillna('No Series')\n",
    "df['BadgeDescription'] = df['BadgeDescription'].fillna('No BadgeDescription')\n",
    "df['VFactsPrice'] = df['VFactsPrice'].fillna('No VFactsPrice')"
   ]
  },
  {
   "cell_type": "code",
   "execution_count": 32,
   "metadata": {},
   "outputs": [],
   "source": [
    "demo = df.iloc[2350:2370]"
   ]
  },
  {
   "cell_type": "code",
   "execution_count": 34,
   "metadata": {},
   "outputs": [
    {
     "name": "stdout",
     "output_type": "stream",
     "text": [
      "Transformation Pipeline and Model Successfully Loaded\n"
     ]
    }
   ],
   "source": [
    "cat_saved = load_model(r'C:\\Users\\Admin\\Documents\\Datium\\Experiment\\Run 5\\Cat_Boost')"
   ]
  },
  {
   "cell_type": "code",
   "execution_count": 37,
   "metadata": {},
   "outputs": [],
   "source": [
    "predictions = predict_model(cat_saved, data = demo)"
   ]
  },
  {
   "cell_type": "code",
   "execution_count": 38,
   "metadata": {},
   "outputs": [
    {
     "data": {
      "text/html": [
       "<div>\n",
       "<style scoped>\n",
       "    .dataframe tbody tr th:only-of-type {\n",
       "        vertical-align: middle;\n",
       "    }\n",
       "\n",
       "    .dataframe tbody tr th {\n",
       "        vertical-align: top;\n",
       "    }\n",
       "\n",
       "    .dataframe thead th {\n",
       "        text-align: right;\n",
       "    }\n",
       "</style>\n",
       "<table border=\"1\" class=\"dataframe\">\n",
       "  <thead>\n",
       "    <tr style=\"text-align: right;\">\n",
       "      <th></th>\n",
       "      <th>NewPrice</th>\n",
       "      <th>KM</th>\n",
       "      <th>Age_Comp_Months</th>\n",
       "      <th>Height</th>\n",
       "      <th>Sold_Amount</th>\n",
       "      <th>Label</th>\n",
       "    </tr>\n",
       "  </thead>\n",
       "  <tbody>\n",
       "    <tr>\n",
       "      <th>2350</th>\n",
       "      <td>29800.0</td>\n",
       "      <td>66036.0</td>\n",
       "      <td>41.0</td>\n",
       "      <td>1435.0</td>\n",
       "      <td>12800.0</td>\n",
       "      <td>11994.355948</td>\n",
       "    </tr>\n",
       "    <tr>\n",
       "      <th>2351</th>\n",
       "      <td>54050.0</td>\n",
       "      <td>151042.0</td>\n",
       "      <td>42.0</td>\n",
       "      <td>2115.0</td>\n",
       "      <td>13000.0</td>\n",
       "      <td>13363.250515</td>\n",
       "    </tr>\n",
       "    <tr>\n",
       "      <th>2352</th>\n",
       "      <td>28104.0</td>\n",
       "      <td>34772.0</td>\n",
       "      <td>31.0</td>\n",
       "      <td>1445.0</td>\n",
       "      <td>18400.0</td>\n",
       "      <td>17525.144528</td>\n",
       "    </tr>\n",
       "    <tr>\n",
       "      <th>2353</th>\n",
       "      <td>29990.0</td>\n",
       "      <td>46065.0</td>\n",
       "      <td>25.0</td>\n",
       "      <td>1480.0</td>\n",
       "      <td>14000.0</td>\n",
       "      <td>15491.940384</td>\n",
       "    </tr>\n",
       "    <tr>\n",
       "      <th>2354</th>\n",
       "      <td>87588.0</td>\n",
       "      <td>58133.0</td>\n",
       "      <td>25.0</td>\n",
       "      <td>1735.0</td>\n",
       "      <td>49500.0</td>\n",
       "      <td>49862.359579</td>\n",
       "    </tr>\n",
       "    <tr>\n",
       "      <th>2355</th>\n",
       "      <td>45990.0</td>\n",
       "      <td>62754.0</td>\n",
       "      <td>33.0</td>\n",
       "      <td>1490.0</td>\n",
       "      <td>24500.0</td>\n",
       "      <td>22972.347131</td>\n",
       "    </tr>\n",
       "    <tr>\n",
       "      <th>2356</th>\n",
       "      <td>38490.0</td>\n",
       "      <td>69861.0</td>\n",
       "      <td>37.0</td>\n",
       "      <td>1476.0</td>\n",
       "      <td>17000.0</td>\n",
       "      <td>14307.986560</td>\n",
       "    </tr>\n",
       "    <tr>\n",
       "      <th>2357</th>\n",
       "      <td>27990.0</td>\n",
       "      <td>93574.0</td>\n",
       "      <td>30.0</td>\n",
       "      <td>1476.0</td>\n",
       "      <td>13250.0</td>\n",
       "      <td>14572.313774</td>\n",
       "    </tr>\n",
       "    <tr>\n",
       "      <th>2358</th>\n",
       "      <td>34490.0</td>\n",
       "      <td>42844.0</td>\n",
       "      <td>15.0</td>\n",
       "      <td>1476.0</td>\n",
       "      <td>20300.0</td>\n",
       "      <td>19787.972266</td>\n",
       "    </tr>\n",
       "    <tr>\n",
       "      <th>2359</th>\n",
       "      <td>33990.0</td>\n",
       "      <td>196862.0</td>\n",
       "      <td>58.0</td>\n",
       "      <td>1775.0</td>\n",
       "      <td>9200.0</td>\n",
       "      <td>9649.676818</td>\n",
       "    </tr>\n",
       "    <tr>\n",
       "      <th>2360</th>\n",
       "      <td>39990.0</td>\n",
       "      <td>61271.0</td>\n",
       "      <td>28.0</td>\n",
       "      <td>1476.0</td>\n",
       "      <td>14500.0</td>\n",
       "      <td>15250.810703</td>\n",
       "    </tr>\n",
       "    <tr>\n",
       "      <th>2361</th>\n",
       "      <td>48990.0</td>\n",
       "      <td>125430.0</td>\n",
       "      <td>48.0</td>\n",
       "      <td>1780.0</td>\n",
       "      <td>19250.0</td>\n",
       "      <td>20046.329670</td>\n",
       "    </tr>\n",
       "    <tr>\n",
       "      <th>2362</th>\n",
       "      <td>32690.0</td>\n",
       "      <td>130300.0</td>\n",
       "      <td>65.0</td>\n",
       "      <td>1940.0</td>\n",
       "      <td>12400.0</td>\n",
       "      <td>15098.458904</td>\n",
       "    </tr>\n",
       "    <tr>\n",
       "      <th>2363</th>\n",
       "      <td>30700.0</td>\n",
       "      <td>47660.0</td>\n",
       "      <td>18.0</td>\n",
       "      <td>1450.0</td>\n",
       "      <td>22000.0</td>\n",
       "      <td>21129.777346</td>\n",
       "    </tr>\n",
       "    <tr>\n",
       "      <th>2364</th>\n",
       "      <td>36990.0</td>\n",
       "      <td>48655.0</td>\n",
       "      <td>41.0</td>\n",
       "      <td>1480.0</td>\n",
       "      <td>14200.0</td>\n",
       "      <td>15130.986164</td>\n",
       "    </tr>\n",
       "    <tr>\n",
       "      <th>2365</th>\n",
       "      <td>34690.0</td>\n",
       "      <td>41879.0</td>\n",
       "      <td>16.0</td>\n",
       "      <td>1715.0</td>\n",
       "      <td>23600.0</td>\n",
       "      <td>22382.512159</td>\n",
       "    </tr>\n",
       "    <tr>\n",
       "      <th>2366</th>\n",
       "      <td>28490.0</td>\n",
       "      <td>87328.0</td>\n",
       "      <td>49.0</td>\n",
       "      <td>1480.0</td>\n",
       "      <td>10200.0</td>\n",
       "      <td>11229.663223</td>\n",
       "    </tr>\n",
       "    <tr>\n",
       "      <th>2367</th>\n",
       "      <td>65439.0</td>\n",
       "      <td>125726.0</td>\n",
       "      <td>73.0</td>\n",
       "      <td>1760.0</td>\n",
       "      <td>25700.0</td>\n",
       "      <td>23322.493999</td>\n",
       "    </tr>\n",
       "    <tr>\n",
       "      <th>2368</th>\n",
       "      <td>19950.0</td>\n",
       "      <td>165733.0</td>\n",
       "      <td>128.0</td>\n",
       "      <td>1375.0</td>\n",
       "      <td>4000.0</td>\n",
       "      <td>4031.311502</td>\n",
       "    </tr>\n",
       "    <tr>\n",
       "      <th>2369</th>\n",
       "      <td>36990.0</td>\n",
       "      <td>28847.0</td>\n",
       "      <td>41.0</td>\n",
       "      <td>1480.0</td>\n",
       "      <td>15500.0</td>\n",
       "      <td>15942.557697</td>\n",
       "    </tr>\n",
       "  </tbody>\n",
       "</table>\n",
       "</div>"
      ],
      "text/plain": [
       "      NewPrice        KM  Age_Comp_Months  Height  Sold_Amount         Label\n",
       "2350   29800.0   66036.0             41.0  1435.0      12800.0  11994.355948\n",
       "2351   54050.0  151042.0             42.0  2115.0      13000.0  13363.250515\n",
       "2352   28104.0   34772.0             31.0  1445.0      18400.0  17525.144528\n",
       "2353   29990.0   46065.0             25.0  1480.0      14000.0  15491.940384\n",
       "2354   87588.0   58133.0             25.0  1735.0      49500.0  49862.359579\n",
       "2355   45990.0   62754.0             33.0  1490.0      24500.0  22972.347131\n",
       "2356   38490.0   69861.0             37.0  1476.0      17000.0  14307.986560\n",
       "2357   27990.0   93574.0             30.0  1476.0      13250.0  14572.313774\n",
       "2358   34490.0   42844.0             15.0  1476.0      20300.0  19787.972266\n",
       "2359   33990.0  196862.0             58.0  1775.0       9200.0   9649.676818\n",
       "2360   39990.0   61271.0             28.0  1476.0      14500.0  15250.810703\n",
       "2361   48990.0  125430.0             48.0  1780.0      19250.0  20046.329670\n",
       "2362   32690.0  130300.0             65.0  1940.0      12400.0  15098.458904\n",
       "2363   30700.0   47660.0             18.0  1450.0      22000.0  21129.777346\n",
       "2364   36990.0   48655.0             41.0  1480.0      14200.0  15130.986164\n",
       "2365   34690.0   41879.0             16.0  1715.0      23600.0  22382.512159\n",
       "2366   28490.0   87328.0             49.0  1480.0      10200.0  11229.663223\n",
       "2367   65439.0  125726.0             73.0  1760.0      25700.0  23322.493999\n",
       "2368   19950.0  165733.0            128.0  1375.0       4000.0   4031.311502\n",
       "2369   36990.0   28847.0             41.0  1480.0      15500.0  15942.557697"
      ]
     },
     "execution_count": 38,
     "metadata": {},
     "output_type": "execute_result"
    }
   ],
   "source": [
    "predictions[['NewPrice','KM','Age_Comp_Months','Height','Sold_Amount','Label']]"
   ]
  },
  {
   "cell_type": "code",
   "execution_count": 11,
   "metadata": {},
   "outputs": [],
   "source": []
  },
  {
   "cell_type": "code",
   "execution_count": null,
   "metadata": {},
   "outputs": [],
   "source": []
  }
 ],
 "metadata": {
  "kernelspec": {
   "display_name": "Python 3",
   "language": "python",
   "name": "python3"
  },
  "language_info": {
   "codemirror_mode": {
    "name": "ipython",
    "version": 3
   },
   "file_extension": ".py",
   "mimetype": "text/x-python",
   "name": "python",
   "nbconvert_exporter": "python",
   "pygments_lexer": "ipython3",
   "version": "3.8.5"
  },
  "widgets": {
   "application/vnd.jupyter.widget-state+json": {
    "state": {
     "06125ad9c28246d7b016d24aa88d735d": {
      "model_module": "@jupyter-widgets/controls",
      "model_module_version": "1.5.0",
      "model_name": "DescriptionStyleModel",
      "state": {
       "description_width": ""
      }
     },
     "1b040ba0dac24b358d21b58dacf6d0ae": {
      "model_module": "@jupyter-widgets/base",
      "model_module_version": "1.2.0",
      "model_name": "LayoutModel",
      "state": {
       "width": "100%"
      }
     },
     "31a829177dc44c65a6654186a0c2c7eb": {
      "model_module": "@jupyter-widgets/controls",
      "model_module_version": "1.5.0",
      "model_name": "IntProgressModel",
      "state": {
       "description": "Processing: ",
       "layout": "IPY_MODEL_62583aeec5e04ee592abcbcd51ab2f63",
       "max": 4,
       "style": "IPY_MODEL_5b47ccd8112e4838ae21355b5e32cbd2",
       "value": 4
      }
     },
     "35f6a4f51cbb400eaf9dcfd477490b06": {
      "model_module": "@jupyter-widgets/controls",
      "model_module_version": "1.5.0",
      "model_name": "TextModel",
      "state": {
       "layout": "IPY_MODEL_455add9c716d47b49c25c61838b7a776",
       "style": "IPY_MODEL_b77c143d69c24e62adb386bb19b1063f",
       "value": "Following data types have been inferred automatically, if they are correct press enter to continue or type 'quit' otherwise."
      }
     },
     "455add9c716d47b49c25c61838b7a776": {
      "model_module": "@jupyter-widgets/base",
      "model_module_version": "1.2.0",
      "model_name": "LayoutModel",
      "state": {
       "width": "100%"
      }
     },
     "4c990bbd30f0402da2e46decdb55aa70": {
      "model_module": "@jupyter-widgets/controls",
      "model_module_version": "1.5.0",
      "model_name": "IntProgressModel",
      "state": {
       "description": "Processing: ",
       "layout": "IPY_MODEL_7606b8f17b0f42bd82dd8c25f1f1155e",
       "max": 4,
       "style": "IPY_MODEL_e9490375b0b04f7bbb22fec89bcac620",
       "value": 4
      }
     },
     "51132e7548474544816d7d15eec00c66": {
      "model_module": "@jupyter-widgets/controls",
      "model_module_version": "1.5.0",
      "model_name": "IntProgressModel",
      "state": {
       "description": "Processing: ",
       "layout": "IPY_MODEL_f4ddcb9c191841cebb936527ac29f448",
       "max": 4,
       "style": "IPY_MODEL_85555d06833248e99b1065de8eac5156",
       "value": 4
      }
     },
     "59c1e97735434e109eb88eaab00975a6": {
      "model_module": "@jupyter-widgets/controls",
      "model_module_version": "1.5.0",
      "model_name": "ProgressStyleModel",
      "state": {
       "description_width": ""
      }
     },
     "5b47ccd8112e4838ae21355b5e32cbd2": {
      "model_module": "@jupyter-widgets/controls",
      "model_module_version": "1.5.0",
      "model_name": "ProgressStyleModel",
      "state": {
       "description_width": ""
      }
     },
     "62583aeec5e04ee592abcbcd51ab2f63": {
      "model_module": "@jupyter-widgets/base",
      "model_module_version": "1.2.0",
      "model_name": "LayoutModel",
      "state": {}
     },
     "7606b8f17b0f42bd82dd8c25f1f1155e": {
      "model_module": "@jupyter-widgets/base",
      "model_module_version": "1.2.0",
      "model_name": "LayoutModel",
      "state": {}
     },
     "76cf91b71c654e69a3712db73536160a": {
      "model_module": "@jupyter-widgets/base",
      "model_module_version": "1.2.0",
      "model_name": "LayoutModel",
      "state": {}
     },
     "7ba89329b3064c7ebebdbbcb6fbe1f9c": {
      "model_module": "@jupyter-widgets/controls",
      "model_module_version": "1.5.0",
      "model_name": "IntProgressModel",
      "state": {
       "description": "Processing: ",
       "layout": "IPY_MODEL_a45eb99619b24bbf8030ce4681086f0d",
       "max": 3,
       "style": "IPY_MODEL_9ec1684cdc5143bfb00a171bdd28bcdd",
       "value": 3
      }
     },
     "85555d06833248e99b1065de8eac5156": {
      "model_module": "@jupyter-widgets/controls",
      "model_module_version": "1.5.0",
      "model_name": "ProgressStyleModel",
      "state": {
       "description_width": ""
      }
     },
     "8c689d95cf7d4052b9440bbcac92ba9b": {
      "model_module": "@jupyter-widgets/controls",
      "model_module_version": "1.5.0",
      "model_name": "TextModel",
      "state": {
       "layout": "IPY_MODEL_1b040ba0dac24b358d21b58dacf6d0ae",
       "style": "IPY_MODEL_c14901f098554fc08a73b069d6b0837b",
       "value": "Following data types have been inferred automatically, if they are correct press enter to continue or type 'quit' otherwise."
      }
     },
     "9ec1684cdc5143bfb00a171bdd28bcdd": {
      "model_module": "@jupyter-widgets/controls",
      "model_module_version": "1.5.0",
      "model_name": "ProgressStyleModel",
      "state": {
       "description_width": ""
      }
     },
     "a45eb99619b24bbf8030ce4681086f0d": {
      "model_module": "@jupyter-widgets/base",
      "model_module_version": "1.2.0",
      "model_name": "LayoutModel",
      "state": {}
     },
     "a64933556f6e4c38a926c1b743ab9e8f": {
      "model_module": "@jupyter-widgets/base",
      "model_module_version": "1.2.0",
      "model_name": "LayoutModel",
      "state": {
       "width": "100%"
      }
     },
     "b30a22559df34404a2ebc4756ea8d14e": {
      "model_module": "@jupyter-widgets/base",
      "model_module_version": "1.2.0",
      "model_name": "LayoutModel",
      "state": {}
     },
     "b77c143d69c24e62adb386bb19b1063f": {
      "model_module": "@jupyter-widgets/controls",
      "model_module_version": "1.5.0",
      "model_name": "DescriptionStyleModel",
      "state": {
       "description_width": ""
      }
     },
     "c14901f098554fc08a73b069d6b0837b": {
      "model_module": "@jupyter-widgets/controls",
      "model_module_version": "1.5.0",
      "model_name": "DescriptionStyleModel",
      "state": {
       "description_width": ""
      }
     },
     "c8e3e3bf7c354cf1a9f753801999bdcf": {
      "model_module": "@jupyter-widgets/controls",
      "model_module_version": "1.5.0",
      "model_name": "TextModel",
      "state": {
       "layout": "IPY_MODEL_a64933556f6e4c38a926c1b743ab9e8f",
       "style": "IPY_MODEL_06125ad9c28246d7b016d24aa88d735d",
       "value": "Following data types have been inferred automatically, if they are correct press enter to continue or type 'quit' otherwise."
      }
     },
     "d017b92965184828b9cdc68f0c009f63": {
      "model_module": "@jupyter-widgets/controls",
      "model_module_version": "1.5.0",
      "model_name": "ProgressStyleModel",
      "state": {
       "description_width": ""
      }
     },
     "d1972f78b71b479db75960328814f5f5": {
      "model_module": "@jupyter-widgets/base",
      "model_module_version": "1.2.0",
      "model_name": "LayoutModel",
      "state": {}
     },
     "d7a310954a124fd188290d7fe4841a32": {
      "model_module": "@jupyter-widgets/controls",
      "model_module_version": "1.5.0",
      "model_name": "IntProgressModel",
      "state": {
       "description": "Processing: ",
       "layout": "IPY_MODEL_d1972f78b71b479db75960328814f5f5",
       "max": 3,
       "style": "IPY_MODEL_59c1e97735434e109eb88eaab00975a6",
       "value": 3
      }
     },
     "e23a4a2afc2743ecb90fe5b2202b4833": {
      "model_module": "@jupyter-widgets/controls",
      "model_module_version": "1.5.0",
      "model_name": "IntProgressModel",
      "state": {
       "description": "Processing: ",
       "layout": "IPY_MODEL_76cf91b71c654e69a3712db73536160a",
       "max": 3,
       "style": "IPY_MODEL_d017b92965184828b9cdc68f0c009f63",
       "value": 3
      }
     },
     "e9490375b0b04f7bbb22fec89bcac620": {
      "model_module": "@jupyter-widgets/controls",
      "model_module_version": "1.5.0",
      "model_name": "ProgressStyleModel",
      "state": {
       "description_width": ""
      }
     },
     "f340601c61234e4c942df577347e6727": {
      "model_module": "@jupyter-widgets/controls",
      "model_module_version": "1.5.0",
      "model_name": "IntProgressModel",
      "state": {
       "description": "Processing: ",
       "layout": "IPY_MODEL_b30a22559df34404a2ebc4756ea8d14e",
       "max": 99,
       "style": "IPY_MODEL_f8d18f1e4a274ad99ca3c50c484f24b4",
       "value": 99
      }
     },
     "f4ddcb9c191841cebb936527ac29f448": {
      "model_module": "@jupyter-widgets/base",
      "model_module_version": "1.2.0",
      "model_name": "LayoutModel",
      "state": {}
     },
     "f8d18f1e4a274ad99ca3c50c484f24b4": {
      "model_module": "@jupyter-widgets/controls",
      "model_module_version": "1.5.0",
      "model_name": "ProgressStyleModel",
      "state": {
       "description_width": ""
      }
     }
    },
    "version_major": 2,
    "version_minor": 0
   }
  }
 },
 "nbformat": 4,
 "nbformat_minor": 4
}
